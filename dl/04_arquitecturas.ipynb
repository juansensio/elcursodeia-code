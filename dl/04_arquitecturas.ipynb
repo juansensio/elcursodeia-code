{
 "cells": [
  {
   "cell_type": "markdown",
   "metadata": {},
   "source": [
    "[![Open In Colab](https://colab.research.google.com/assets/colab-badge.svg)](https://colab.research.google.com/github/juansensio/elcursodeia-code/blob/master/dl/04_arquitecturas.ipynb)"
   ]
  },
  {
   "cell_type": "markdown",
   "metadata": {},
   "source": [
    "# Arquitecturas de redes neuronales"
   ]
  },
  {
   "cell_type": "code",
   "execution_count": 10,
   "metadata": {},
   "outputs": [],
   "source": [
    "from sklearn.datasets import fetch_openml\n",
    "import numpy as np\n",
    "\n",
    "mnist = fetch_openml('mnist_784', version=1)\n",
    "X, Y = mnist[\"data\"].values.astype(np.float32) / 255., mnist[\"target\"].values.astype(int)"
   ]
  },
  {
   "cell_type": "code",
   "execution_count": 12,
   "metadata": {},
   "outputs": [],
   "source": [
    "import torch\n",
    "\n",
    "class Dataset(torch.utils.data.Dataset):\n",
    "\n",
    "\t# constructor\n",
    "\tdef __init__(self, X, Y):\n",
    "\t\tself.X = torch.from_numpy(X).float()\n",
    "\t\tself.Y = torch.from_numpy(Y).long()\n",
    "\n",
    "\t# cantidad de muestras en el dataset\n",
    "\tdef __len__(self):\n",
    "\t\treturn len(self.X)\n",
    "\n",
    "\t# devolvemos el elemento `ix` del dataset\n",
    "\tdef __getitem__(self, ix):\n",
    "\t\treturn self.X[ix], self.Y[ix]"
   ]
  },
  {
   "cell_type": "code",
   "execution_count": 13,
   "metadata": {},
   "outputs": [],
   "source": [
    "def train(model, epochs = 5, batch_size=1000):\n",
    "\tdataset = {\n",
    "\t\t\"train\": Dataset(X[:60000], Y[:60000]), # 60.000 imágenes para entrenamiento\n",
    "\t\t\"val\": Dataset(X[60000:], Y[60000:])    # 10.000 imágenes para validación\n",
    "\t}\n",
    "\tdataloader = {\n",
    "\t\t'train': torch.utils.data.DataLoader(dataset['train'], batch_size=batch_size, shuffle=True, num_workers=4, pin_memory=True),\n",
    "\t\t'val': torch.utils.data.DataLoader(dataset['val'], batch_size=batch_size, num_workers=4, pin_memory=True)\n",
    "\t}\n",
    "\tmodel.cuda()\n",
    "\tcriterion = torch.nn.CrossEntropyLoss()\n",
    "\toptimizer = torch.optim.Adam(model.parameters())\n",
    "\tfor e in range(1, epochs+1):\n",
    "\t\tprint(f\"epoch: {e}/{epochs}\")\n",
    "\t\t# entrenamiento\n",
    "\t\tmodel.train()\n",
    "\t\tfor batch_ix, (x, y) in enumerate(dataloader['train']):\n",
    "\t\t\tx, y = x.cuda(), y.cuda()\n",
    "\t\t\toptimizer.zero_grad()\n",
    "\t\t\twith torch.autocast(device_type='cuda', dtype=torch.bfloat16):\n",
    "\t\t\t\toutputs = model(x)\n",
    "\t\t\t\tloss = criterion(outputs, y)\n",
    "\t\t\tloss.backward()\n",
    "\t\t\toptimizer.step()\n",
    "\t\t\tif batch_ix % 10 == 0:\n",
    "\t\t\t\tloss, current = loss.item(), (batch_ix + 1) * len(x)\n",
    "\t\t\t\tprint(f\"loss: {loss:.4f} [{current:>5d}/{len(dataset['train']):>5d}]\")\n",
    "\t\t# validación\n",
    "\t\tmodel.eval()\n",
    "\t\tval_loss, val_acc = [], []\n",
    "\t\twith torch.no_grad():\n",
    "\t\t\tfor batch_ix, (x, y) in enumerate(dataloader['val']):\n",
    "\t\t\t\tx, y = x.cuda(), y.cuda()\n",
    "\t\t\t\twith torch.autocast(device_type='cuda', dtype=torch.bfloat16):\n",
    "\t\t\t\t\toutputs = model(x)\n",
    "\t\t\t\t\tloss = criterion(outputs, y)\n",
    "\t\t\t\tval_loss.append(loss.item())\n",
    "\t\t\t\tval_acc.append((outputs.argmax(1) == y).float().mean().item())\n",
    "\t\tprint(f\"val_loss: {np.mean(val_loss):.4f} val_acc: {np.mean(val_acc):.4f}\")"
   ]
  },
  {
   "cell_type": "markdown",
   "metadata": {},
   "source": [
    "## El Perceptrón Multicapa"
   ]
  },
  {
   "cell_type": "code",
   "execution_count": 14,
   "metadata": {},
   "outputs": [
    {
     "data": {
      "text/plain": [
       "Sequential(\n",
       "  (0): Linear(in_features=784, out_features=128, bias=True)\n",
       "  (1): ReLU()\n",
       "  (2): Linear(in_features=128, out_features=10, bias=True)\n",
       ")"
      ]
     },
     "execution_count": 14,
     "metadata": {},
     "output_type": "execute_result"
    }
   ],
   "source": [
    "from torch.nn import Sequential as S\n",
    "from torch.nn import Linear as L\n",
    "from torch.nn import ReLU as R\n",
    "\n",
    "model = S(L(784,128),R(),L(128,10))\n",
    "model"
   ]
  },
  {
   "cell_type": "code",
   "execution_count": 15,
   "metadata": {},
   "outputs": [
    {
     "name": "stdout",
     "output_type": "stream",
     "text": [
      "epoch: 1/5\n",
      "loss: 2.3182 [ 1000/60000]\n",
      "loss: 1.6702 [11000/60000]\n",
      "loss: 1.0839 [21000/60000]\n",
      "loss: 0.7168 [31000/60000]\n",
      "loss: 0.5696 [41000/60000]\n",
      "loss: 0.5074 [51000/60000]\n",
      "val_loss: 0.4047 val_acc: 0.8947\n",
      "epoch: 2/5\n",
      "loss: 0.3969 [ 1000/60000]\n",
      "loss: 0.3833 [11000/60000]\n",
      "loss: 0.4030 [21000/60000]\n",
      "loss: 0.3409 [31000/60000]\n",
      "loss: 0.3307 [41000/60000]\n",
      "loss: 0.3470 [51000/60000]\n",
      "val_loss: 0.2996 val_acc: 0.9157\n",
      "epoch: 3/5\n",
      "loss: 0.3406 [ 1000/60000]\n",
      "loss: 0.3265 [11000/60000]\n",
      "loss: 0.3258 [21000/60000]\n",
      "loss: 0.2747 [31000/60000]\n",
      "loss: 0.2904 [41000/60000]\n",
      "loss: 0.2990 [51000/60000]\n",
      "val_loss: 0.2605 val_acc: 0.9272\n",
      "epoch: 4/5\n",
      "loss: 0.2877 [ 1000/60000]\n",
      "loss: 0.2149 [11000/60000]\n",
      "loss: 0.2588 [21000/60000]\n",
      "loss: 0.3132 [31000/60000]\n",
      "loss: 0.2235 [41000/60000]\n",
      "loss: 0.2583 [51000/60000]\n",
      "val_loss: 0.2286 val_acc: 0.9345\n",
      "epoch: 5/5\n",
      "loss: 0.2425 [ 1000/60000]\n",
      "loss: 0.2271 [11000/60000]\n",
      "loss: 0.2120 [21000/60000]\n",
      "loss: 0.2709 [31000/60000]\n",
      "loss: 0.1955 [41000/60000]\n",
      "loss: 0.2314 [51000/60000]\n",
      "val_loss: 0.2070 val_acc: 0.9417\n"
     ]
    }
   ],
   "source": [
    "train(model)"
   ]
  },
  {
   "cell_type": "markdown",
   "metadata": {},
   "source": [
    "## Redes Neuronales Convolucionales"
   ]
  },
  {
   "cell_type": "code",
   "execution_count": 16,
   "metadata": {},
   "outputs": [
    {
     "name": "stdout",
     "output_type": "stream",
     "text": [
      "Downloading https://www.cs.toronto.edu/~kriz/cifar-10-python.tar.gz to ./data/cifar-10-python.tar.gz\n"
     ]
    },
    {
     "name": "stderr",
     "output_type": "stream",
     "text": [
      "100%|██████████| 170498071/170498071 [00:06<00:00, 24812185.81it/s]\n"
     ]
    },
    {
     "name": "stdout",
     "output_type": "stream",
     "text": [
      "Extracting ./data/cifar-10-python.tar.gz to ./data\n",
      "Files already downloaded and verified\n"
     ]
    }
   ],
   "source": [
    "import torchvision\n",
    "\n",
    "trainset = torchvision.datasets.CIFAR10(root='./data', train=True, download=True)\n",
    "\n",
    "testset = torchvision.datasets.CIFAR10(root='./data', train=False, download=True)\n",
    "\n",
    "classes = ('plane', 'car', 'bird', 'cat',\n",
    "           'deer', 'dog', 'frog', 'horse', 'ship', 'truck')"
   ]
  },
  {
   "cell_type": "code",
   "execution_count": 17,
   "metadata": {},
   "outputs": [
    {
     "data": {
      "text/plain": [
       "((50000, 32, 32, 3), (10000, 32, 32, 3))"
      ]
     },
     "execution_count": 17,
     "metadata": {},
     "output_type": "execute_result"
    }
   ],
   "source": [
    "import numpy as np\n",
    "\n",
    "train_imgs, train_labels = np.array([np.array(i[0]) for i in trainset]), np.array([i[1] for i in trainset])\n",
    "test_imgs, test_labels = np.array([np.array(i[0]) for i in testset]), np.array([i[1] for i in testset])\n",
    "\n",
    "train_imgs.shape, test_imgs.shape"
   ]
  },
  {
   "cell_type": "code",
   "execution_count": 26,
   "metadata": {},
   "outputs": [
    {
     "data": {
      "image/png": "[encoded data removed]",
      "text/plain": [
       "<Figure size 640x480 with 1 Axes>"
      ]
     },
     "metadata": {},
     "output_type": "display_data"
    }
   ],
   "source": [
    "import random\n",
    "import matplotlib.pyplot as plt\n",
    "\n",
    "ix = random.randint(0, len(train_imgs))\n",
    "img, label = train_imgs[ix], train_labels[ix]\n",
    "\n",
    "plt.imshow(img)\n",
    "plt.title(classes[label])\n",
    "plt.show()"
   ]
  },
  {
   "cell_type": "code",
   "execution_count": 27,
   "metadata": {},
   "outputs": [
    {
     "data": {
      "image/png": "[encoded data removed]",
      "text/plain": [
       "<Figure size 1000x500 with 2 Axes>"
      ]
     },
     "metadata": {},
     "output_type": "display_data"
    }
   ],
   "source": [
    "import numpy as np\n",
    "import scipy.signal\n",
    "from skimage import color\n",
    "from skimage import exposure\n",
    "\n",
    "img = color.rgb2gray(img)\n",
    "\n",
    "kernel = np.array([[1,1,1],\n",
    "                   [0,0,0],\n",
    "                   [-1,-1,-1]])\n",
    "\n",
    "edges = scipy.signal.convolve2d(img, kernel, 'valid')\n",
    "edges = exposure.equalize_adapthist(edges/np.max(np.abs(edges)), clip_limit=0.03)\n",
    "\n",
    "fig, (ax1, ax2) = plt.subplots(1, 2, figsize=(10,5))\n",
    "ax1.imshow(img, cmap=plt.cm.gray)\n",
    "ax2.imshow(edges, cmap=plt.cm.gray)\n",
    "plt.show()"
   ]
  },
  {
   "cell_type": "code",
   "execution_count": 28,
   "metadata": {},
   "outputs": [
    {
     "data": {
      "image/png": "[encoded data removed]",
      "text/plain": [
       "<Figure size 1000x500 with 2 Axes>"
      ]
     },
     "metadata": {},
     "output_type": "display_data"
    }
   ],
   "source": [
    "kernel = np.array([[1,0,-1],\n",
    "                   [1,0,-1],\n",
    "                   [1,0,-1]])\n",
    "\n",
    "edges = scipy.signal.convolve2d(img, kernel, 'valid')\n",
    "edges = exposure.equalize_adapthist(edges/np.max(np.abs(edges)), clip_limit=0.03)\n",
    "\n",
    "fig, (ax1, ax2) = plt.subplots(1, 2, figsize=(10,5))\n",
    "ax1.imshow(img, cmap=plt.cm.gray)\n",
    "ax2.imshow(edges, cmap=plt.cm.gray)\n",
    "plt.show()"
   ]
  },
  {
   "cell_type": "code",
   "execution_count": 29,
   "metadata": {},
   "outputs": [
    {
     "data": {
      "image/png": "[encoded data removed]",
      "text/plain": [
       "<Figure size 1000x500 with 2 Axes>"
      ]
     },
     "metadata": {},
     "output_type": "display_data"
    }
   ],
   "source": [
    "kernel = np.array([[0,-1,0],\n",
    "                   [-1,4,-1],\n",
    "                   [0,-1,0]])\n",
    "\n",
    "edges = scipy.signal.convolve2d(img, kernel, 'valid')\n",
    "edges = exposure.equalize_adapthist(edges/np.max(np.abs(edges)), clip_limit=0.03)\n",
    "\n",
    "fig, (ax1, ax2) = plt.subplots(1, 2, figsize=(10,5))\n",
    "ax1.imshow(img, cmap=plt.cm.gray)\n",
    "ax2.imshow(edges, cmap=plt.cm.gray)\n",
    "plt.show()"
   ]
  },
  {
   "cell_type": "markdown",
   "metadata": {},
   "source": [
    "En Pytorch"
   ]
  },
  {
   "cell_type": "code",
   "execution_count": 48,
   "metadata": {},
   "outputs": [
    {
     "data": {
      "image/png": "[encoded data removed]",
      "text/plain": [
       "<Figure size 640x480 with 1 Axes>"
      ]
     },
     "metadata": {},
     "output_type": "display_data"
    }
   ],
   "source": [
    "ix = random.randint(0, len(train_imgs))\n",
    "img, label = train_imgs[ix], train_labels[ix]\n",
    "\n",
    "plt.imshow(img)\n",
    "plt.title(classes[label])\n",
    "plt.show()"
   ]
  },
  {
   "cell_type": "code",
   "execution_count": 49,
   "metadata": {},
   "outputs": [
    {
     "data": {
      "text/plain": [
       "(torch.Size([1, 3, 32, 32]), torch.float32)"
      ]
     },
     "execution_count": 49,
     "metadata": {},
     "output_type": "execute_result"
    }
   ],
   "source": [
    "# convertir la imágen en tensor con dimensiones (N, C_in, H, W)\n",
    "\n",
    "img_tensor = torch.from_numpy(img / 255.).unsqueeze(0)\n",
    "img_tensor = img_tensor.permute(0, 3, 1, 2).float()\n",
    "\n",
    "img_tensor.shape, img_tensor.dtype"
   ]
  },
  {
   "cell_type": "code",
   "execution_count": 50,
   "metadata": {},
   "outputs": [
    {
     "data": {
      "text/plain": [
       "torch.Size([1, 10, 30, 30])"
      ]
     },
     "execution_count": 50,
     "metadata": {},
     "output_type": "execute_result"
    }
   ],
   "source": [
    "# aplicamos 10 filtros de tamaño 3x3\n",
    "\n",
    "conv = torch.nn.Conv2d(in_channels = 3, out_channels = 10, kernel_size = 3)\n",
    "\n",
    "output = conv(img_tensor)\n",
    "\n",
    "# dimensiones: (N, #filtros, H', W')\n",
    "output.shape"
   ]
  },
  {
   "cell_type": "code",
   "execution_count": 51,
   "metadata": {},
   "outputs": [
    {
     "data": {
      "text/plain": [
       "torch.Size([1, 10, 32, 32])"
      ]
     },
     "execution_count": 51,
     "metadata": {},
     "output_type": "execute_result"
    }
   ],
   "source": [
    "conv = torch.nn.Conv2d(in_channels = 3, out_channels = 10, kernel_size = 3, padding = 1, stride = 1)\n",
    "\n",
    "output = conv(img_tensor)\n",
    "\n",
    "# dimensiones: (N, #filtros, H', W')\n",
    "output.shape"
   ]
  },
  {
   "cell_type": "code",
   "execution_count": 52,
   "metadata": {},
   "outputs": [
    {
     "data": {
      "text/plain": [
       "torch.Size([1, 10, 16, 16])"
      ]
     },
     "execution_count": 52,
     "metadata": {},
     "output_type": "execute_result"
    }
   ],
   "source": [
    "conv = torch.nn.Conv2d(in_channels = 3, out_channels = 10, kernel_size = 3, padding = 1, stride = 2)\n",
    "\n",
    "output = conv(img_tensor)\n",
    "\n",
    "# dimensiones: (N, #filtros, H', W')\n",
    "output.shape"
   ]
  },
  {
   "cell_type": "markdown",
   "metadata": {},
   "source": [
    "Pooling"
   ]
  },
  {
   "cell_type": "code",
   "execution_count": 59,
   "metadata": {},
   "outputs": [
    {
     "data": {
      "image/png": "[encoded data removed]",
      "text/plain": [
       "<Figure size 640x480 with 1 Axes>"
      ]
     },
     "metadata": {},
     "output_type": "display_data"
    }
   ],
   "source": [
    "ix = random.randint(0, len(train_imgs))\n",
    "img, label = train_imgs[ix], train_labels[ix]\n",
    "\n",
    "plt.imshow(img)\n",
    "plt.title(classes[label])\n",
    "plt.show()"
   ]
  },
  {
   "cell_type": "code",
   "execution_count": 60,
   "metadata": {},
   "outputs": [
    {
     "data": {
      "text/plain": [
       "torch.Size([1, 3, 16, 16])"
      ]
     },
     "execution_count": 60,
     "metadata": {},
     "output_type": "execute_result"
    }
   ],
   "source": [
    "pool = torch.nn.MaxPool2d(3, padding=1, stride=2)\n",
    "\n",
    "img_tensor = torch.from_numpy(img / 255.).unsqueeze(0).permute(0, 3, 1, 2).float()\n",
    "output = pool(img_tensor)\n",
    "output.shape"
   ]
  },
  {
   "cell_type": "code",
   "execution_count": 61,
   "metadata": {},
   "outputs": [
    {
     "data": {
      "image/png": "[encoded data removed]",
      "text/plain": [
       "<Figure size 640x480 with 1 Axes>"
      ]
     },
     "metadata": {},
     "output_type": "display_data"
    }
   ],
   "source": [
    "plt.imshow(output.squeeze(0).permute(1,2,0))\n",
    "plt.show()"
   ]
  },
  {
   "cell_type": "markdown",
   "metadata": {},
   "source": [
    "Redes convolucionales"
   ]
  },
  {
   "cell_type": "code",
   "execution_count": 62,
   "metadata": {},
   "outputs": [],
   "source": [
    "def block(c_in, c_out, k=3, p=1, s=1, pk=2, ps=2):\n",
    "    return torch.nn.Sequential(\n",
    "        torch.nn.Conv2d(c_in, c_out, k, padding=p, stride=s),\n",
    "        torch.nn.ReLU(),\n",
    "        torch.nn.MaxPool2d(pk, stride=ps)\n",
    "    )\n",
    "\n",
    "class CNN(torch.nn.Module):\n",
    "  def __init__(self, n_channels=1, n_outputs=10):\n",
    "    super().__init__()\n",
    "    self.conv1 = block(n_channels, 64)\n",
    "    self.conv2 = block(64, 128)\n",
    "    self.fc = torch.nn.Linear(128*7*7, n_outputs)\n",
    "\n",
    "  def forward(self, x):\n",
    "    print(\"Dimensiones:\")\n",
    "    print(\"Entrada: \", x.shape)\n",
    "    x = self.conv1(x)\n",
    "    print(\"conv1: \", x.shape)\n",
    "    x = self.conv2(x)\n",
    "    print(\"conv2: \", x.shape)\n",
    "    x = x.view(x.shape[0], -1)\n",
    "    print(\"pre fc: \", x.shape)\n",
    "    x = self.fc(x)\n",
    "    print(\"Salida: \", x.shape)\n",
    "    return x"
   ]
  },
  {
   "cell_type": "code",
   "execution_count": 63,
   "metadata": {},
   "outputs": [
    {
     "name": "stdout",
     "output_type": "stream",
     "text": [
      "Dimensiones:\n",
      "Entrada:  torch.Size([64, 1, 28, 28])\n",
      "conv1:  torch.Size([64, 64, 14, 14])\n",
      "conv2:  torch.Size([64, 128, 7, 7])\n",
      "pre fc:  torch.Size([64, 6272])\n",
      "Salida:  torch.Size([64, 10])\n"
     ]
    }
   ],
   "source": [
    "model = CNN()\n",
    "\n",
    "output = model(torch.randn(64, 1, 28, 28))"
   ]
  },
  {
   "cell_type": "code",
   "execution_count": 64,
   "metadata": {},
   "outputs": [],
   "source": [
    "class CNN(torch.nn.Module):\n",
    "  def __init__(self, n_channels=1, n_outputs=10):\n",
    "    super().__init__()\n",
    "    self.conv1 = block(n_channels, 64)\n",
    "    self.conv2 = block(64, 128)\n",
    "    self.fc = torch.nn.Linear(128*7*7, n_outputs)\n",
    "\n",
    "  def forward(self, x):\n",
    "    x = self.conv1(x)\n",
    "    x = self.conv2(x)\n",
    "    x = x.view(x.shape[0], -1)\n",
    "    x = self.fc(x)\n",
    "    return x"
   ]
  },
  {
   "cell_type": "code",
   "execution_count": 65,
   "metadata": {},
   "outputs": [],
   "source": [
    "class Dataset(torch.utils.data.Dataset):\n",
    "\tdef __init__(self, X, Y):\n",
    "\t\tself.X = torch.tensor(X).float()\n",
    "\t\tself.Y = torch.tensor(Y).long()\n",
    "\n",
    "\tdef __len__(self):\n",
    "\t\treturn len(self.X)\n",
    "\n",
    "\t# devolvemos las imágenes con dimensiones (C, H, W)\n",
    "\tdef __getitem__(self, ix):\n",
    "\t\treturn self.X[ix].reshape(1, 28, 28), self.Y[ix]"
   ]
  },
  {
   "cell_type": "code",
   "execution_count": 66,
   "metadata": {},
   "outputs": [
    {
     "name": "stdout",
     "output_type": "stream",
     "text": [
      "epoch: 1/5\n",
      "loss: 2.3044 [ 1000/60000]\n",
      "loss: 0.8479 [11000/60000]\n",
      "loss: 0.4415 [21000/60000]\n",
      "loss: 0.4343 [31000/60000]\n",
      "loss: 0.2665 [41000/60000]\n",
      "loss: 0.1859 [51000/60000]\n",
      "val_loss: 0.1831 val_acc: 0.9476\n",
      "epoch: 2/5\n",
      "loss: 0.2427 [ 1000/60000]\n",
      "loss: 0.1386 [11000/60000]\n",
      "loss: 0.1548 [21000/60000]\n",
      "loss: 0.1163 [31000/60000]\n",
      "loss: 0.1108 [41000/60000]\n",
      "loss: 0.1588 [51000/60000]\n",
      "val_loss: 0.0866 val_acc: 0.9760\n",
      "epoch: 3/5\n",
      "loss: 0.0810 [ 1000/60000]\n",
      "loss: 0.0834 [11000/60000]\n",
      "loss: 0.0704 [21000/60000]\n",
      "loss: 0.0703 [31000/60000]\n",
      "loss: 0.0896 [41000/60000]\n",
      "loss: 0.0801 [51000/60000]\n",
      "val_loss: 0.0593 val_acc: 0.9816\n",
      "epoch: 4/5\n",
      "loss: 0.0596 [ 1000/60000]\n",
      "loss: 0.0607 [11000/60000]\n",
      "loss: 0.0495 [21000/60000]\n",
      "loss: 0.0924 [31000/60000]\n",
      "loss: 0.0444 [41000/60000]\n",
      "loss: 0.0718 [51000/60000]\n",
      "val_loss: 0.0509 val_acc: 0.9827\n",
      "epoch: 5/5\n",
      "loss: 0.0426 [ 1000/60000]\n",
      "loss: 0.0490 [11000/60000]\n",
      "loss: 0.0467 [21000/60000]\n",
      "loss: 0.0371 [31000/60000]\n",
      "loss: 0.0467 [41000/60000]\n",
      "loss: 0.0473 [51000/60000]\n",
      "val_loss: 0.0405 val_acc: 0.9854\n"
     ]
    }
   ],
   "source": [
    "model = CNN()\n",
    "\n",
    "train(model)"
   ]
  },
  {
   "cell_type": "markdown",
   "metadata": {},
   "source": [
    "Arquitecturas"
   ]
  },
  {
   "cell_type": "markdown",
   "metadata": {},
   "source": [
    "LeNet-5 (http://yann.lecun.com/exdb/publis/pdf/lecun-01a.pdf)\n",
    "\n",
    "![](pics/lenet5.png)"
   ]
  },
  {
   "cell_type": "code",
   "execution_count": 68,
   "metadata": {},
   "outputs": [],
   "source": [
    "import torch\n",
    "\n",
    "def block(c_in, c_out, k=3, p=1, s=1):\n",
    "    return torch.nn.Sequential(\n",
    "        torch.nn.Conv2d(c_in, c_out, k, padding=p, stride=s),\n",
    "        torch.nn.Tanh(),\n",
    "        torch.nn.AvgPool2d(2, stride=2)\n",
    "    )\n",
    "\n",
    "def block2(c_in, c_out):\n",
    "    return torch.nn.Sequential(\n",
    "        torch.nn.Linear(c_in, c_out),\n",
    "        torch.nn.ReLU()\n",
    "    )\n",
    "\n",
    "class LeNet5(torch.nn.Module):\n",
    "  def __init__(self, n_channels=1, n_outputs=10):\n",
    "    super().__init__()\n",
    "    #self.pad = torch.nn.ConstantPad2d(2, 0.)\n",
    "    self.conv1 = block(n_channels, 6, 5, p=0)\n",
    "    self.conv2 = block(6, 16, 5, p=0)\n",
    "    self.conv3 = torch.nn.Sequential(\n",
    "        torch.nn.Conv2d(16, 120, 5, padding=0),\n",
    "        torch.nn.Tanh()\n",
    "    )\n",
    "    self.fc1 = block2(120, 84)\n",
    "    self.fc2 = torch.nn.Linear(84, 10)\n",
    "\n",
    "  def forward(self, x):\n",
    "    #x = self.pad(x)\n",
    "    x = self.conv1(x)\n",
    "    x = self.conv2(x)\n",
    "    x = self.conv3(x)\n",
    "    x = x.view(x.shape[0], -1)\n",
    "    x = self.fc1(x)\n",
    "    x = self.fc2(x)\n",
    "    return x"
   ]
  },
  {
   "cell_type": "code",
   "execution_count": 69,
   "metadata": {},
   "outputs": [
    {
     "data": {
      "text/plain": [
       "torch.Size([64, 10])"
      ]
     },
     "execution_count": 69,
     "metadata": {},
     "output_type": "execute_result"
    }
   ],
   "source": [
    "lenet5 = LeNet5()\n",
    "output = lenet5(torch.randn(64, 1, 32, 32))\n",
    "output.shape"
   ]
  },
  {
   "cell_type": "markdown",
   "metadata": {},
   "source": [
    "Alexnet (https://proceedings.neurips.cc/paper_files/paper/2012/file/c399862d3b9d6b76c8436e924a68c45b-Paper.pdf)\n",
    "\n",
    "![](pics/alexnet.png)"
   ]
  },
  {
   "cell_type": "code",
   "execution_count": 70,
   "metadata": {},
   "outputs": [
    {
     "data": {
      "text/plain": [
       "AlexNet(\n",
       "  (features): Sequential(\n",
       "    (0): Conv2d(3, 64, kernel_size=(11, 11), stride=(4, 4), padding=(2, 2))\n",
       "    (1): ReLU(inplace=True)\n",
       "    (2): MaxPool2d(kernel_size=3, stride=2, padding=0, dilation=1, ceil_mode=False)\n",
       "    (3): Conv2d(64, 192, kernel_size=(5, 5), stride=(1, 1), padding=(2, 2))\n",
       "    (4): ReLU(inplace=True)\n",
       "    (5): MaxPool2d(kernel_size=3, stride=2, padding=0, dilation=1, ceil_mode=False)\n",
       "    (6): Conv2d(192, 384, kernel_size=(3, 3), stride=(1, 1), padding=(1, 1))\n",
       "    (7): ReLU(inplace=True)\n",
       "    (8): Conv2d(384, 256, kernel_size=(3, 3), stride=(1, 1), padding=(1, 1))\n",
       "    (9): ReLU(inplace=True)\n",
       "    (10): Conv2d(256, 256, kernel_size=(3, 3), stride=(1, 1), padding=(1, 1))\n",
       "    (11): ReLU(inplace=True)\n",
       "    (12): MaxPool2d(kernel_size=3, stride=2, padding=0, dilation=1, ceil_mode=False)\n",
       "  )\n",
       "  (avgpool): AdaptiveAvgPool2d(output_size=(6, 6))\n",
       "  (classifier): Sequential(\n",
       "    (0): Dropout(p=0.5, inplace=False)\n",
       "    (1): Linear(in_features=9216, out_features=4096, bias=True)\n",
       "    (2): ReLU(inplace=True)\n",
       "    (3): Dropout(p=0.5, inplace=False)\n",
       "    (4): Linear(in_features=4096, out_features=4096, bias=True)\n",
       "    (5): ReLU(inplace=True)\n",
       "    (6): Linear(in_features=4096, out_features=1000, bias=True)\n",
       "  )\n",
       ")"
      ]
     },
     "execution_count": 70,
     "metadata": {},
     "output_type": "execute_result"
    }
   ],
   "source": [
    "import torchvision\n",
    "\n",
    "alexnet = torchvision.models.AlexNet()\n",
    "alexnet"
   ]
  },
  {
   "cell_type": "code",
   "execution_count": 71,
   "metadata": {},
   "outputs": [
    {
     "data": {
      "text/plain": [
       "torch.Size([64, 1000])"
      ]
     },
     "execution_count": 71,
     "metadata": {},
     "output_type": "execute_result"
    }
   ],
   "source": [
    "output = alexnet(torch.randn(64, 3, 224, 224))\n",
    "output.shape"
   ]
  },
  {
   "cell_type": "markdown",
   "metadata": {},
   "source": [
    "VGG (https://arxiv.org/abs/1409.1556)\n",
    "\n",
    "![](pics/vgg.png)"
   ]
  },
  {
   "cell_type": "code",
   "execution_count": 72,
   "metadata": {},
   "outputs": [
    {
     "data": {
      "text/plain": [
       "VGG(\n",
       "  (features): Sequential(\n",
       "    (0): Conv2d(3, 64, kernel_size=(3, 3), stride=(1, 1), padding=(1, 1))\n",
       "    (1): ReLU(inplace=True)\n",
       "    (2): Conv2d(64, 64, kernel_size=(3, 3), stride=(1, 1), padding=(1, 1))\n",
       "    (3): ReLU(inplace=True)\n",
       "    (4): MaxPool2d(kernel_size=2, stride=2, padding=0, dilation=1, ceil_mode=False)\n",
       "    (5): Conv2d(64, 128, kernel_size=(3, 3), stride=(1, 1), padding=(1, 1))\n",
       "    (6): ReLU(inplace=True)\n",
       "    (7): Conv2d(128, 128, kernel_size=(3, 3), stride=(1, 1), padding=(1, 1))\n",
       "    (8): ReLU(inplace=True)\n",
       "    (9): MaxPool2d(kernel_size=2, stride=2, padding=0, dilation=1, ceil_mode=False)\n",
       "    (10): Conv2d(128, 256, kernel_size=(3, 3), stride=(1, 1), padding=(1, 1))\n",
       "    (11): ReLU(inplace=True)\n",
       "    (12): Conv2d(256, 256, kernel_size=(3, 3), stride=(1, 1), padding=(1, 1))\n",
       "    (13): ReLU(inplace=True)\n",
       "    (14): Conv2d(256, 256, kernel_size=(3, 3), stride=(1, 1), padding=(1, 1))\n",
       "    (15): ReLU(inplace=True)\n",
       "    (16): MaxPool2d(kernel_size=2, stride=2, padding=0, dilation=1, ceil_mode=False)\n",
       "    (17): Conv2d(256, 512, kernel_size=(3, 3), stride=(1, 1), padding=(1, 1))\n",
       "    (18): ReLU(inplace=True)\n",
       "    (19): Conv2d(512, 512, kernel_size=(3, 3), stride=(1, 1), padding=(1, 1))\n",
       "    (20): ReLU(inplace=True)\n",
       "    (21): Conv2d(512, 512, kernel_size=(3, 3), stride=(1, 1), padding=(1, 1))\n",
       "    (22): ReLU(inplace=True)\n",
       "    (23): MaxPool2d(kernel_size=2, stride=2, padding=0, dilation=1, ceil_mode=False)\n",
       "    (24): Conv2d(512, 512, kernel_size=(3, 3), stride=(1, 1), padding=(1, 1))\n",
       "    (25): ReLU(inplace=True)\n",
       "    (26): Conv2d(512, 512, kernel_size=(3, 3), stride=(1, 1), padding=(1, 1))\n",
       "    (27): ReLU(inplace=True)\n",
       "    (28): Conv2d(512, 512, kernel_size=(3, 3), stride=(1, 1), padding=(1, 1))\n",
       "    (29): ReLU(inplace=True)\n",
       "    (30): MaxPool2d(kernel_size=2, stride=2, padding=0, dilation=1, ceil_mode=False)\n",
       "  )\n",
       "  (avgpool): AdaptiveAvgPool2d(output_size=(7, 7))\n",
       "  (classifier): Sequential(\n",
       "    (0): Linear(in_features=25088, out_features=4096, bias=True)\n",
       "    (1): ReLU(inplace=True)\n",
       "    (2): Dropout(p=0.5, inplace=False)\n",
       "    (3): Linear(in_features=4096, out_features=4096, bias=True)\n",
       "    (4): ReLU(inplace=True)\n",
       "    (5): Dropout(p=0.5, inplace=False)\n",
       "    (6): Linear(in_features=4096, out_features=1000, bias=True)\n",
       "  )\n",
       ")"
      ]
     },
     "execution_count": 72,
     "metadata": {},
     "output_type": "execute_result"
    }
   ],
   "source": [
    "# existen dos variantes: vgg16 y vgg19, con 16 y 19 capas respectivamente\n",
    "\n",
    "vgg16 = torchvision.models.vgg16()\n",
    "vgg16"
   ]
  },
  {
   "cell_type": "code",
   "execution_count": 73,
   "metadata": {},
   "outputs": [
    {
     "data": {
      "text/plain": [
       "torch.Size([64, 1000])"
      ]
     },
     "execution_count": 73,
     "metadata": {},
     "output_type": "execute_result"
    }
   ],
   "source": [
    "output = vgg16(torch.randn(64, 3, 224, 224))\n",
    "output.shape"
   ]
  },
  {
   "cell_type": "markdown",
   "metadata": {},
   "source": [
    "ResNet (https://arxiv.org/abs/1512.03385)\n",
    "\n",
    "![](pics/resnet.png)\n",
    "\n"
   ]
  },
  {
   "cell_type": "code",
   "execution_count": 74,
   "metadata": {},
   "outputs": [
    {
     "data": {
      "text/plain": [
       "ResNet(\n",
       "  (conv1): Conv2d(3, 64, kernel_size=(7, 7), stride=(2, 2), padding=(3, 3), bias=False)\n",
       "  (bn1): BatchNorm2d(64, eps=1e-05, momentum=0.1, affine=True, track_running_stats=True)\n",
       "  (relu): ReLU(inplace=True)\n",
       "  (maxpool): MaxPool2d(kernel_size=3, stride=2, padding=1, dilation=1, ceil_mode=False)\n",
       "  (layer1): Sequential(\n",
       "    (0): BasicBlock(\n",
       "      (conv1): Conv2d(64, 64, kernel_size=(3, 3), stride=(1, 1), padding=(1, 1), bias=False)\n",
       "      (bn1): BatchNorm2d(64, eps=1e-05, momentum=0.1, affine=True, track_running_stats=True)\n",
       "      (relu): ReLU(inplace=True)\n",
       "      (conv2): Conv2d(64, 64, kernel_size=(3, 3), stride=(1, 1), padding=(1, 1), bias=False)\n",
       "      (bn2): BatchNorm2d(64, eps=1e-05, momentum=0.1, affine=True, track_running_stats=True)\n",
       "    )\n",
       "    (1): BasicBlock(\n",
       "      (conv1): Conv2d(64, 64, kernel_size=(3, 3), stride=(1, 1), padding=(1, 1), bias=False)\n",
       "      (bn1): BatchNorm2d(64, eps=1e-05, momentum=0.1, affine=True, track_running_stats=True)\n",
       "      (relu): ReLU(inplace=True)\n",
       "      (conv2): Conv2d(64, 64, kernel_size=(3, 3), stride=(1, 1), padding=(1, 1), bias=False)\n",
       "      (bn2): BatchNorm2d(64, eps=1e-05, momentum=0.1, affine=True, track_running_stats=True)\n",
       "    )\n",
       "    (2): BasicBlock(\n",
       "      (conv1): Conv2d(64, 64, kernel_size=(3, 3), stride=(1, 1), padding=(1, 1), bias=False)\n",
       "      (bn1): BatchNorm2d(64, eps=1e-05, momentum=0.1, affine=True, track_running_stats=True)\n",
       "      (relu): ReLU(inplace=True)\n",
       "      (conv2): Conv2d(64, 64, kernel_size=(3, 3), stride=(1, 1), padding=(1, 1), bias=False)\n",
       "      (bn2): BatchNorm2d(64, eps=1e-05, momentum=0.1, affine=True, track_running_stats=True)\n",
       "    )\n",
       "  )\n",
       "  (layer2): Sequential(\n",
       "    (0): BasicBlock(\n",
       "      (conv1): Conv2d(64, 128, kernel_size=(3, 3), stride=(2, 2), padding=(1, 1), bias=False)\n",
       "      (bn1): BatchNorm2d(128, eps=1e-05, momentum=0.1, affine=True, track_running_stats=True)\n",
       "      (relu): ReLU(inplace=True)\n",
       "      (conv2): Conv2d(128, 128, kernel_size=(3, 3), stride=(1, 1), padding=(1, 1), bias=False)\n",
       "      (bn2): BatchNorm2d(128, eps=1e-05, momentum=0.1, affine=True, track_running_stats=True)\n",
       "      (downsample): Sequential(\n",
       "        (0): Conv2d(64, 128, kernel_size=(1, 1), stride=(2, 2), bias=False)\n",
       "        (1): BatchNorm2d(128, eps=1e-05, momentum=0.1, affine=True, track_running_stats=True)\n",
       "      )\n",
       "    )\n",
       "    (1): BasicBlock(\n",
       "      (conv1): Conv2d(128, 128, kernel_size=(3, 3), stride=(1, 1), padding=(1, 1), bias=False)\n",
       "      (bn1): BatchNorm2d(128, eps=1e-05, momentum=0.1, affine=True, track_running_stats=True)\n",
       "      (relu): ReLU(inplace=True)\n",
       "      (conv2): Conv2d(128, 128, kernel_size=(3, 3), stride=(1, 1), padding=(1, 1), bias=False)\n",
       "      (bn2): BatchNorm2d(128, eps=1e-05, momentum=0.1, affine=True, track_running_stats=True)\n",
       "    )\n",
       "    (2): BasicBlock(\n",
       "      (conv1): Conv2d(128, 128, kernel_size=(3, 3), stride=(1, 1), padding=(1, 1), bias=False)\n",
       "      (bn1): BatchNorm2d(128, eps=1e-05, momentum=0.1, affine=True, track_running_stats=True)\n",
       "      (relu): ReLU(inplace=True)\n",
       "      (conv2): Conv2d(128, 128, kernel_size=(3, 3), stride=(1, 1), padding=(1, 1), bias=False)\n",
       "      (bn2): BatchNorm2d(128, eps=1e-05, momentum=0.1, affine=True, track_running_stats=True)\n",
       "    )\n",
       "    (3): BasicBlock(\n",
       "      (conv1): Conv2d(128, 128, kernel_size=(3, 3), stride=(1, 1), padding=(1, 1), bias=False)\n",
       "      (bn1): BatchNorm2d(128, eps=1e-05, momentum=0.1, affine=True, track_running_stats=True)\n",
       "      (relu): ReLU(inplace=True)\n",
       "      (conv2): Conv2d(128, 128, kernel_size=(3, 3), stride=(1, 1), padding=(1, 1), bias=False)\n",
       "      (bn2): BatchNorm2d(128, eps=1e-05, momentum=0.1, affine=True, track_running_stats=True)\n",
       "    )\n",
       "  )\n",
       "  (layer3): Sequential(\n",
       "    (0): BasicBlock(\n",
       "      (conv1): Conv2d(128, 256, kernel_size=(3, 3), stride=(2, 2), padding=(1, 1), bias=False)\n",
       "      (bn1): BatchNorm2d(256, eps=1e-05, momentum=0.1, affine=True, track_running_stats=True)\n",
       "      (relu): ReLU(inplace=True)\n",
       "      (conv2): Conv2d(256, 256, kernel_size=(3, 3), stride=(1, 1), padding=(1, 1), bias=False)\n",
       "      (bn2): BatchNorm2d(256, eps=1e-05, momentum=0.1, affine=True, track_running_stats=True)\n",
       "      (downsample): Sequential(\n",
       "        (0): Conv2d(128, 256, kernel_size=(1, 1), stride=(2, 2), bias=False)\n",
       "        (1): BatchNorm2d(256, eps=1e-05, momentum=0.1, affine=True, track_running_stats=True)\n",
       "      )\n",
       "    )\n",
       "    (1): BasicBlock(\n",
       "      (conv1): Conv2d(256, 256, kernel_size=(3, 3), stride=(1, 1), padding=(1, 1), bias=False)\n",
       "      (bn1): BatchNorm2d(256, eps=1e-05, momentum=0.1, affine=True, track_running_stats=True)\n",
       "      (relu): ReLU(inplace=True)\n",
       "      (conv2): Conv2d(256, 256, kernel_size=(3, 3), stride=(1, 1), padding=(1, 1), bias=False)\n",
       "      (bn2): BatchNorm2d(256, eps=1e-05, momentum=0.1, affine=True, track_running_stats=True)\n",
       "    )\n",
       "    (2): BasicBlock(\n",
       "      (conv1): Conv2d(256, 256, kernel_size=(3, 3), stride=(1, 1), padding=(1, 1), bias=False)\n",
       "      (bn1): BatchNorm2d(256, eps=1e-05, momentum=0.1, affine=True, track_running_stats=True)\n",
       "      (relu): ReLU(inplace=True)\n",
       "      (conv2): Conv2d(256, 256, kernel_size=(3, 3), stride=(1, 1), padding=(1, 1), bias=False)\n",
       "      (bn2): BatchNorm2d(256, eps=1e-05, momentum=0.1, affine=True, track_running_stats=True)\n",
       "    )\n",
       "    (3): BasicBlock(\n",
       "      (conv1): Conv2d(256, 256, kernel_size=(3, 3), stride=(1, 1), padding=(1, 1), bias=False)\n",
       "      (bn1): BatchNorm2d(256, eps=1e-05, momentum=0.1, affine=True, track_running_stats=True)\n",
       "      (relu): ReLU(inplace=True)\n",
       "      (conv2): Conv2d(256, 256, kernel_size=(3, 3), stride=(1, 1), padding=(1, 1), bias=False)\n",
       "      (bn2): BatchNorm2d(256, eps=1e-05, momentum=0.1, affine=True, track_running_stats=True)\n",
       "    )\n",
       "    (4): BasicBlock(\n",
       "      (conv1): Conv2d(256, 256, kernel_size=(3, 3), stride=(1, 1), padding=(1, 1), bias=False)\n",
       "      (bn1): BatchNorm2d(256, eps=1e-05, momentum=0.1, affine=True, track_running_stats=True)\n",
       "      (relu): ReLU(inplace=True)\n",
       "      (conv2): Conv2d(256, 256, kernel_size=(3, 3), stride=(1, 1), padding=(1, 1), bias=False)\n",
       "      (bn2): BatchNorm2d(256, eps=1e-05, momentum=0.1, affine=True, track_running_stats=True)\n",
       "    )\n",
       "    (5): BasicBlock(\n",
       "      (conv1): Conv2d(256, 256, kernel_size=(3, 3), stride=(1, 1), padding=(1, 1), bias=False)\n",
       "      (bn1): BatchNorm2d(256, eps=1e-05, momentum=0.1, affine=True, track_running_stats=True)\n",
       "      (relu): ReLU(inplace=True)\n",
       "      (conv2): Conv2d(256, 256, kernel_size=(3, 3), stride=(1, 1), padding=(1, 1), bias=False)\n",
       "      (bn2): BatchNorm2d(256, eps=1e-05, momentum=0.1, affine=True, track_running_stats=True)\n",
       "    )\n",
       "  )\n",
       "  (layer4): Sequential(\n",
       "    (0): BasicBlock(\n",
       "      (conv1): Conv2d(256, 512, kernel_size=(3, 3), stride=(2, 2), padding=(1, 1), bias=False)\n",
       "      (bn1): BatchNorm2d(512, eps=1e-05, momentum=0.1, affine=True, track_running_stats=True)\n",
       "      (relu): ReLU(inplace=True)\n",
       "      (conv2): Conv2d(512, 512, kernel_size=(3, 3), stride=(1, 1), padding=(1, 1), bias=False)\n",
       "      (bn2): BatchNorm2d(512, eps=1e-05, momentum=0.1, affine=True, track_running_stats=True)\n",
       "      (downsample): Sequential(\n",
       "        (0): Conv2d(256, 512, kernel_size=(1, 1), stride=(2, 2), bias=False)\n",
       "        (1): BatchNorm2d(512, eps=1e-05, momentum=0.1, affine=True, track_running_stats=True)\n",
       "      )\n",
       "    )\n",
       "    (1): BasicBlock(\n",
       "      (conv1): Conv2d(512, 512, kernel_size=(3, 3), stride=(1, 1), padding=(1, 1), bias=False)\n",
       "      (bn1): BatchNorm2d(512, eps=1e-05, momentum=0.1, affine=True, track_running_stats=True)\n",
       "      (relu): ReLU(inplace=True)\n",
       "      (conv2): Conv2d(512, 512, kernel_size=(3, 3), stride=(1, 1), padding=(1, 1), bias=False)\n",
       "      (bn2): BatchNorm2d(512, eps=1e-05, momentum=0.1, affine=True, track_running_stats=True)\n",
       "    )\n",
       "    (2): BasicBlock(\n",
       "      (conv1): Conv2d(512, 512, kernel_size=(3, 3), stride=(1, 1), padding=(1, 1), bias=False)\n",
       "      (bn1): BatchNorm2d(512, eps=1e-05, momentum=0.1, affine=True, track_running_stats=True)\n",
       "      (relu): ReLU(inplace=True)\n",
       "      (conv2): Conv2d(512, 512, kernel_size=(3, 3), stride=(1, 1), padding=(1, 1), bias=False)\n",
       "      (bn2): BatchNorm2d(512, eps=1e-05, momentum=0.1, affine=True, track_running_stats=True)\n",
       "    )\n",
       "  )\n",
       "  (avgpool): AdaptiveAvgPool2d(output_size=(1, 1))\n",
       "  (fc): Linear(in_features=512, out_features=1000, bias=True)\n",
       ")"
      ]
     },
     "execution_count": 74,
     "metadata": {},
     "output_type": "execute_result"
    }
   ],
   "source": [
    "# existen múltiples variantes: resnet18, resnet35, resnet50, resnet101, resnet152\n",
    "\n",
    "resnet34 = torchvision.models.resnet34()\n",
    "resnet34"
   ]
  },
  {
   "cell_type": "code",
   "execution_count": 75,
   "metadata": {},
   "outputs": [
    {
     "data": {
      "text/plain": [
       "torch.Size([64, 1000])"
      ]
     },
     "execution_count": 75,
     "metadata": {},
     "output_type": "execute_result"
    }
   ],
   "source": [
    "output = resnet34(torch.randn(64, 3, 224, 224))\n",
    "output.shape"
   ]
  },
  {
   "cell_type": "markdown",
   "metadata": {},
   "source": [
    "Otras arquitecturas (https://huggingface.co/docs/timm)"
   ]
  },
  {
   "cell_type": "markdown",
   "metadata": {},
   "source": [
    "## Transformers"
   ]
  },
  {
   "cell_type": "code",
   "execution_count": 76,
   "metadata": {},
   "outputs": [],
   "source": [
    "from sklearn.datasets import fetch_openml\n",
    "import numpy as np\n",
    "\n",
    "mnist = fetch_openml('mnist_784', version=1)\n",
    "X, Y = mnist[\"data\"].values.astype(np.float32), mnist[\"target\"].values.astype(int)"
   ]
  },
  {
   "cell_type": "code",
   "execution_count": 77,
   "metadata": {},
   "outputs": [],
   "source": [
    "class Dataset(torch.utils.data.Dataset):\n",
    "  def __init__(self, X, y, patch_size=(7, 7)):\n",
    "    self.X = X\n",
    "    self.y = y\n",
    "    self.patch_size = patch_size\n",
    "\n",
    "  def __len__(self):\n",
    "    return len(self.X)\n",
    "\n",
    "  def __getitem__(self, ix):\n",
    "    image = torch.from_numpy(self.X[ix]).float().view(28, 28) # 28 x 28\n",
    "    h, w = self.patch_size\n",
    "    patches = image.unfold(0, h, h).unfold(1, w, w) # 4 x 4 x 7 x 7\n",
    "    patches = patches.contiguous().view(-1, h*w) # 16 x 49\n",
    "    return patches, torch.tensor(self.y[ix]).long()"
   ]
  },
  {
   "cell_type": "code",
   "execution_count": 78,
   "metadata": {},
   "outputs": [
    {
     "data": {
      "text/plain": [
       "(torch.Size([16, 49]), torch.Size([]))"
      ]
     },
     "execution_count": 78,
     "metadata": {},
     "output_type": "execute_result"
    }
   ],
   "source": [
    "attn_dm = Dataset(X, Y)\n",
    "imgs, labels = attn_dm[0]\n",
    "imgs.shape, labels.shape"
   ]
  },
  {
   "cell_type": "code",
   "execution_count": 80,
   "metadata": {},
   "outputs": [
    {
     "data": {
      "image/png": "[encoded data removed]",
      "text/plain": [
       "<Figure size 500x500 with 16 Axes>"
      ]
     },
     "metadata": {},
     "output_type": "display_data"
    }
   ],
   "source": [
    "import matplotlib\n",
    "import matplotlib.pyplot as plt\n",
    "import matplotlib.gridspec as gridspec\n",
    "\n",
    "fig = plt.figure(figsize=(5,5))\n",
    "for i in range(4):\n",
    "    for j in range(4):\n",
    "        ax = plt.subplot(4, 4, i*4 + j + 1)\n",
    "        ax.imshow(imgs[i*4 + j].view(7, 7), cmap=\"gray\")\n",
    "        ax.axis('off')\n",
    "plt.show()"
   ]
  },
  {
   "cell_type": "code",
   "execution_count": 81,
   "metadata": {},
   "outputs": [],
   "source": [
    "# basado en: https://github.com/karpathy/minGPT/blob/master/mingpt/model.py\n",
    "\n",
    "import math\n",
    "\n",
    "class ScaledDotSelfAttention(torch.nn.Module):\n",
    "\n",
    "    def __init__(self, n_embd):\n",
    "        super().__init__()\n",
    "\n",
    "        # key, query, value projections\n",
    "        self.key = torch.nn.Linear(n_embd, n_embd)\n",
    "        self.query = torch.nn.Linear(n_embd, n_embd)\n",
    "        self.value = torch.nn.Linear(n_embd, n_embd)\n",
    "\n",
    "    def forward(self, x):\n",
    "        B, L, F = x.size()\n",
    "\n",
    "        # calculate query, key, values\n",
    "        k = self.key(x) # (B, L, F)\n",
    "        q = self.query(x) # (B, L, F)\n",
    "        v = self.value(x) # (B, L, F)\n",
    "\n",
    "        # attention (B, L, F) x (B, F, L) -> (B, L, L)\n",
    "        att = (q @ k.transpose(1, 2)) * (1.0 / math.sqrt(k.size(-1)))\n",
    "        att = torch.nn.functional.softmax(att, dim=-1)\n",
    "        y = att @ v # (B, L, L) x (B, L, F) -> (B, L, F)\n",
    "\n",
    "        return y\n",
    "\n",
    "class Model(torch.nn.Module):\n",
    "\n",
    "    def __init__(self, n_embd=7*7, seq_len=4*4):\n",
    "        super().__init__()\n",
    "        self.attn = ScaledDotSelfAttention(n_embd)\n",
    "        self.actn = torch.nn.ReLU(inplace=True)\n",
    "        self.fc = torch.nn.Linear(n_embd*seq_len, 10)\n",
    "\n",
    "    def forward(self, x):\n",
    "        x = self.attn(x)\n",
    "        y = self.fc(self.actn(x.view(x.size(0), -1)))\n",
    "        return y"
   ]
  },
  {
   "cell_type": "code",
   "execution_count": 82,
   "metadata": {},
   "outputs": [
    {
     "name": "stdout",
     "output_type": "stream",
     "text": [
      "epoch: 1/5\n",
      "loss: 60.6897 [ 1000/60000]\n",
      "loss: 22.2778 [11000/60000]\n",
      "loss: 10.8978 [21000/60000]\n",
      "loss: 7.9166 [31000/60000]\n",
      "loss: 6.0623 [41000/60000]\n",
      "loss: 4.7374 [51000/60000]\n",
      "val_loss: 4.0040 val_acc: 0.5165\n",
      "epoch: 2/5\n",
      "loss: 3.8141 [ 1000/60000]\n",
      "loss: 3.8517 [11000/60000]\n",
      "loss: 2.8660 [21000/60000]\n",
      "loss: 2.8340 [31000/60000]\n",
      "loss: 2.2559 [41000/60000]\n",
      "loss: 2.3226 [51000/60000]\n",
      "val_loss: 2.0592 val_acc: 0.6177\n",
      "epoch: 3/5\n",
      "loss: 1.9413 [ 1000/60000]\n",
      "loss: 1.6784 [11000/60000]\n",
      "loss: 1.8232 [21000/60000]\n",
      "loss: 1.8378 [31000/60000]\n",
      "loss: 1.6102 [41000/60000]\n",
      "loss: 1.5846 [51000/60000]\n",
      "val_loss: 1.4342 val_acc: 0.6696\n",
      "epoch: 4/5\n",
      "loss: 1.3847 [ 1000/60000]\n",
      "loss: 1.2174 [11000/60000]\n",
      "loss: 1.1866 [21000/60000]\n",
      "loss: 1.2515 [31000/60000]\n",
      "loss: 1.2603 [41000/60000]\n",
      "loss: 1.2067 [51000/60000]\n",
      "val_loss: 1.1392 val_acc: 0.6982\n",
      "epoch: 5/5\n",
      "loss: 1.0622 [ 1000/60000]\n",
      "loss: 1.1236 [11000/60000]\n",
      "loss: 1.1433 [21000/60000]\n",
      "loss: 1.0811 [31000/60000]\n",
      "loss: 1.1436 [41000/60000]\n",
      "loss: 0.9909 [51000/60000]\n",
      "val_loss: 0.9812 val_acc: 0.7241\n"
     ]
    }
   ],
   "source": [
    "model = Model()\n",
    "\n",
    "train(model)"
   ]
  },
  {
   "cell_type": "code",
   "execution_count": 83,
   "metadata": {},
   "outputs": [],
   "source": [
    "# basado en: https://github.com/karpathy/minGPT/blob/master/mingpt/model.py\n",
    "\n",
    "import math\n",
    "\n",
    "class MultiHeadAttention(torch.nn.Module):\n",
    "\n",
    "    def __init__(self, n_embd, n_heads):\n",
    "        super().__init__()\n",
    "        self.n_heads = n_heads\n",
    "\n",
    "        # key, query, value projections\n",
    "        self.key = torch.nn.Linear(n_embd, n_embd*n_heads)\n",
    "        self.query = torch.nn.Linear(n_embd, n_embd*n_heads)\n",
    "        self.value = torch.nn.Linear(n_embd, n_embd*n_heads)\n",
    "\n",
    "        # output projection\n",
    "        self.proj = torch.nn.Linear(n_embd*n_heads, n_embd)\n",
    "\n",
    "    def forward(self, x):\n",
    "        B, L, F = x.size()\n",
    "\n",
    "        # calculate query, key, values for all heads in batch and move head forward to be the batch dim\n",
    "        k = self.key(x).view(B, L, F, self.n_heads).transpose(1, 3) # (B, nh, L, F)\n",
    "        q = self.query(x).view(B, L, F, self.n_heads).transpose(1, 3) # (B, nh, L, F)\n",
    "        v = self.value(x).view(B, L, F, self.n_heads).transpose(1, 3) # (B, nh, L, F)\n",
    "\n",
    "        # attention (B, nh, L, F) x (B, nh, F, L) -> (B, nh, L, L)\n",
    "        att = (q @ k.transpose(-2, -1)) * (1.0 / math.sqrt(k.size(-1)))\n",
    "        att = torch.nn.functional.softmax(att, dim=-1)\n",
    "        y = att @ v # (B, nh, L, L) x (B, nh, L, F) -> (B, nh, L, F)\n",
    "        y = y.transpose(1, 2).contiguous().view(B, L, F*self.n_heads) # re-assemble all head outputs side by side\n",
    "\n",
    "        return self.proj(y)\n",
    "\n",
    "class Model(torch.nn.Module):\n",
    "\n",
    "    def __init__(self, n_embd=7*7, seq_len=4*4, n_heads=4*4):\n",
    "        super().__init__()\n",
    "        self.attn = MultiHeadAttention(n_embd, n_heads)\n",
    "        self.actn = torch.nn.ReLU(inplace=True)\n",
    "        self.fc = torch.nn.Linear(n_embd*seq_len, 10)\n",
    "\n",
    "    def forward(self, x):\n",
    "        x = self.attn(x)\n",
    "        y = self.fc(self.actn(x.view(x.size(0), -1)))\n",
    "        return y"
   ]
  },
  {
   "cell_type": "code",
   "execution_count": 84,
   "metadata": {},
   "outputs": [
    {
     "name": "stdout",
     "output_type": "stream",
     "text": [
      "epoch: 1/5\n",
      "loss: 18.2546 [ 1000/60000]\n",
      "loss: 2.5113 [11000/60000]\n",
      "loss: 1.6591 [21000/60000]\n",
      "loss: 1.1678 [31000/60000]\n",
      "loss: 1.0534 [41000/60000]\n",
      "loss: 0.9509 [51000/60000]\n",
      "val_loss: 0.6905 val_acc: 0.8848\n",
      "epoch: 2/5\n",
      "loss: 0.7470 [ 1000/60000]\n",
      "loss: 0.5239 [11000/60000]\n",
      "loss: 0.4526 [21000/60000]\n",
      "loss: 0.5891 [31000/60000]\n",
      "loss: 0.5377 [41000/60000]\n",
      "loss: 0.3979 [51000/60000]\n",
      "val_loss: 0.4282 val_acc: 0.9073\n",
      "epoch: 3/5\n",
      "loss: 0.2777 [ 1000/60000]\n",
      "loss: 0.2669 [11000/60000]\n",
      "loss: 0.2980 [21000/60000]\n",
      "loss: 0.3470 [31000/60000]\n",
      "loss: 0.2692 [41000/60000]\n",
      "loss: 0.2441 [51000/60000]\n",
      "val_loss: 0.3171 val_acc: 0.9225\n",
      "epoch: 4/5\n",
      "loss: 0.1871 [ 1000/60000]\n",
      "loss: 0.1877 [11000/60000]\n",
      "loss: 0.1689 [21000/60000]\n",
      "loss: 0.2017 [31000/60000]\n",
      "loss: 0.1581 [41000/60000]\n",
      "loss: 0.1855 [51000/60000]\n",
      "val_loss: 0.2756 val_acc: 0.9285\n",
      "epoch: 5/5\n",
      "loss: 0.1779 [ 1000/60000]\n",
      "loss: 0.1488 [11000/60000]\n",
      "loss: 0.1408 [21000/60000]\n",
      "loss: 0.0985 [31000/60000]\n",
      "loss: 0.1758 [41000/60000]\n",
      "loss: 0.1580 [51000/60000]\n",
      "val_loss: 0.2325 val_acc: 0.9414\n"
     ]
    }
   ],
   "source": [
    "model = Model()\n",
    "\n",
    "train(model)"
   ]
  },
  {
   "cell_type": "markdown",
   "metadata": {},
   "source": [
    "Transformer Encoder"
   ]
  },
  {
   "cell_type": "code",
   "execution_count": 85,
   "metadata": {},
   "outputs": [],
   "source": [
    "# basado en: https://github.com/karpathy/minGPT/blob/master/mingpt/model.py\n",
    "\n",
    "import math\n",
    "\n",
    "class MultiHeadAttention(torch.nn.Module):\n",
    "\n",
    "    def __init__(self, n_embd, n_heads):\n",
    "        super().__init__()\n",
    "        self.n_heads = n_heads\n",
    "\n",
    "        # key, query, value projections\n",
    "        self.key = torch.nn.Linear(n_embd, n_embd*n_heads)\n",
    "        self.query = torch.nn.Linear(n_embd, n_embd*n_heads)\n",
    "        self.value = torch.nn.Linear(n_embd, n_embd*n_heads)\n",
    "\n",
    "        # output projection\n",
    "        self.proj = torch.nn.Linear(n_embd*n_heads, n_embd)\n",
    "\n",
    "    def forward(self, x):\n",
    "        B, L, F = x.size()\n",
    "\n",
    "        # calculate query, key, values for all heads in batch and move head forward to be the batch dim\n",
    "        k = self.key(x).view(B, L, F, self.n_heads).transpose(1, 3) # (B, nh, L, F)\n",
    "        q = self.query(x).view(B, L, F, self.n_heads).transpose(1, 3) # (B, nh, L, F)\n",
    "        v = self.value(x).view(B, L, F, self.n_heads).transpose(1, 3) # (B, nh, L, F)\n",
    "\n",
    "        # attention (B, nh, L, F) x (B, nh, F, L) -> (B, nh, L, L)\n",
    "        att = (q @ k.transpose(-2, -1)) * (1.0 / math.sqrt(k.size(-1)))\n",
    "        att = torch.nn.functional.softmax(att, dim=-1)\n",
    "        y = att @ v # (B, nh, L, L) x (B, nh, L, F) -> (B, nh, L, F)\n",
    "        y = y.transpose(1, 2).contiguous().view(B, L, F*self.n_heads) # re-assemble all head outputs side by side\n",
    "\n",
    "        return self.proj(y)\n",
    "\n",
    "class TransformerBlock(torch.nn.Module):\n",
    "    def __init__(self, n_embd, n_heads):\n",
    "        super().__init__()\n",
    "        self.ln1 = torch.nn.LayerNorm(n_embd)\n",
    "        self.ln2 = torch.nn.LayerNorm(n_embd)\n",
    "        self.attn = MultiHeadAttention(n_embd, n_heads)\n",
    "        self.mlp = torch.nn.Sequential(\n",
    "            torch.nn.Linear(n_embd, 4 * n_embd),\n",
    "            torch.nn.ReLU(),\n",
    "            torch.nn.Linear(4 * n_embd, n_embd),\n",
    "        )\n",
    "\n",
    "    def forward(self, x):\n",
    "        x = self.ln1(x + self.attn(x))\n",
    "        x = self.ln2(x + self.mlp(x))\n",
    "        return x\n",
    "\n",
    "class Model(torch.nn.Module):\n",
    "\n",
    "    def __init__(self, n_input=7*7, n_embd=7*7, seq_len=4*4, n_heads=4*4, n_layers=1):\n",
    "        super().__init__()\n",
    "        self.pos_emb = torch.nn.Parameter(torch.zeros(1, seq_len, n_embd))\n",
    "        self.inp_emb = torch.nn.Linear(n_input, n_embd)\n",
    "        self.tranformer = torch.nn.Sequential(*[TransformerBlock(n_embd, n_heads) for _ in range(n_layers)])\n",
    "        self.fc = torch.nn.Linear(n_embd*seq_len, 10)\n",
    "\n",
    "    def forward(self, x):\n",
    "        # embedding\n",
    "        e = self.inp_emb(x) + self.pos_emb\n",
    "        # transformer blocks\n",
    "        x = self.tranformer(e)\n",
    "        # classifier\n",
    "        y = self.fc(x.view(x.size(0), -1))\n",
    "        return y"
   ]
  },
  {
   "cell_type": "code",
   "execution_count": 86,
   "metadata": {},
   "outputs": [
    {
     "name": "stdout",
     "output_type": "stream",
     "text": [
      "epoch: 1/5\n",
      "loss: 2.4921 [ 1000/60000]\n",
      "loss: 0.7199 [11000/60000]\n",
      "loss: 0.4041 [21000/60000]\n",
      "loss: 0.3327 [31000/60000]\n",
      "loss: 0.2922 [41000/60000]\n",
      "loss: 0.2709 [51000/60000]\n",
      "val_loss: 0.2254 val_acc: 0.9348\n",
      "epoch: 2/5\n",
      "loss: 0.2100 [ 1000/60000]\n",
      "loss: 0.2117 [11000/60000]\n",
      "loss: 0.1903 [21000/60000]\n",
      "loss: 0.1858 [31000/60000]\n",
      "loss: 0.1801 [41000/60000]\n",
      "loss: 0.1730 [51000/60000]\n",
      "val_loss: 0.1669 val_acc: 0.9510\n",
      "epoch: 3/5\n",
      "loss: 0.1609 [ 1000/60000]\n",
      "loss: 0.1561 [11000/60000]\n",
      "loss: 0.1475 [21000/60000]\n",
      "loss: 0.1232 [31000/60000]\n",
      "loss: 0.1448 [41000/60000]\n",
      "loss: 0.1305 [51000/60000]\n",
      "val_loss: 0.1402 val_acc: 0.9558\n",
      "epoch: 4/5\n",
      "loss: 0.0876 [ 1000/60000]\n",
      "loss: 0.1341 [11000/60000]\n",
      "loss: 0.1393 [21000/60000]\n",
      "loss: 0.1153 [31000/60000]\n",
      "loss: 0.1040 [41000/60000]\n",
      "loss: 0.1025 [51000/60000]\n",
      "val_loss: 0.1192 val_acc: 0.9623\n",
      "epoch: 5/5\n",
      "loss: 0.1036 [ 1000/60000]\n",
      "loss: 0.1041 [11000/60000]\n",
      "loss: 0.1250 [21000/60000]\n",
      "loss: 0.1192 [31000/60000]\n",
      "loss: 0.1257 [41000/60000]\n",
      "loss: 0.0828 [51000/60000]\n",
      "val_loss: 0.1060 val_acc: 0.9672\n"
     ]
    }
   ],
   "source": [
    "model = Model()\n",
    "\n",
    "train(model)"
   ]
  },
  {
   "cell_type": "markdown",
   "metadata": {},
   "source": [
    "Encoder-Decoder"
   ]
  },
  {
   "cell_type": "code",
   "execution_count": 87,
   "metadata": {},
   "outputs": [],
   "source": [
    "from sklearn.datasets import fetch_openml\n",
    "import numpy as np\n",
    "\n",
    "mnist = fetch_openml('mnist_784', version=1)\n",
    "X, Y = mnist[\"data\"].values.astype(np.float32), mnist[\"target\"].values.astype(int)"
   ]
  },
  {
   "cell_type": "code",
   "execution_count": 88,
   "metadata": {},
   "outputs": [],
   "source": [
    "vocab = 'abcdefghijklmnopqrstuvwxyz'\n",
    "len_vocab = len(vocab) + 3\n",
    "\n",
    "def number2caption(ix):\n",
    "    if ix == 0: return 'cero'\n",
    "    if ix == 1: return 'uno'\n",
    "    if ix == 2: return 'dos'\n",
    "    if ix == 3: return 'tres'\n",
    "    if ix == 4: return 'cuatro'\n",
    "    if ix == 5: return 'cinco'\n",
    "    if ix == 6: return 'seis'\n",
    "    if ix == 7: return 'siete'\n",
    "    if ix == 8: return 'ocho'\n",
    "    if ix == 9: return 'nueve'\n",
    "\n",
    "def caption2ixs(caption):\n",
    "    return [vocab.index(c) + 3 for c in caption]\n",
    "\n",
    "def ixs2caption(ixs):\n",
    "    return ('').join([vocab[ix - 3] for ix in ixs if ix not in [0, 1, 2]])"
   ]
  },
  {
   "cell_type": "code",
   "execution_count": 89,
   "metadata": {},
   "outputs": [
    {
     "data": {
      "text/plain": [
       "(['cinco', 'cero', 'cuatro'],\n",
       " [[1, 5, 11, 16, 5, 17, 2],\n",
       "  [1, 5, 7, 20, 17, 2],\n",
       "  [1, 5, 23, 3, 22, 20, 17, 2]])"
      ]
     },
     "execution_count": 89,
     "metadata": {},
     "output_type": "execute_result"
    }
   ],
   "source": [
    "captions = [number2caption(ix) for ix in Y]\n",
    "\n",
    "# cada letra tiene su número (índice en el vocab)\n",
    "encoded = [[1] + caption2ixs(caption) + [2] for caption in captions] \n",
    "\n",
    "captions[:3], encoded[:3]"
   ]
  },
  {
   "cell_type": "code",
   "execution_count": 91,
   "metadata": {},
   "outputs": [
    {
     "data": {
      "image/png": "[encoded data removed]",
      "text/plain": [
       "<Figure size 800x800 with 16 Axes>"
      ]
     },
     "metadata": {},
     "output_type": "display_data"
    }
   ],
   "source": [
    "import matplotlib.pyplot as plt\n",
    "\n",
    "r, c = 4, 4\n",
    "fig = plt.figure(figsize=(c*2, r*2))\n",
    "for _r in range(r):\n",
    "    for _c in range(c):\n",
    "        ix = _r*c + _c\n",
    "        ax = plt.subplot(r, c, ix + 1)\n",
    "        img, caption = X[ix], captions[ix]\n",
    "        ax.axis(\"off\")\n",
    "        ax.imshow(img.reshape(28,28), cmap=\"gray\")\n",
    "        ax.set_title(caption)\n",
    "plt.show()"
   ]
  },
  {
   "cell_type": "code",
   "execution_count": 92,
   "metadata": {},
   "outputs": [],
   "source": [
    "import torch \n",
    "\n",
    "class Dataset(torch.utils.data.Dataset):\n",
    "  def __init__(self, X, y, patch_size=(7, 7)):\n",
    "    self.X = X\n",
    "    self.y = y\n",
    "\n",
    "  def __len__(self):\n",
    "    return len(self.X)\n",
    "\n",
    "  def __getitem__(self, ix):\n",
    "    image = torch.from_numpy(self.X[ix]).float().view(1, 28, 28) \n",
    "    return image, torch.tensor(self.y[ix]).long()"
   ]
  },
  {
   "cell_type": "code",
   "execution_count": 93,
   "metadata": {},
   "outputs": [],
   "source": [
    "import torch.nn as nn\n",
    "\n",
    "# https://github.com/jankrepl/mildlyoverfitted/blob/master/github_adventures/vision_transformer/custom.py\n",
    "\n",
    "class PatchEmbedding(nn.Module):\n",
    "    def __init__(self, img_size, patch_size, in_chans, embed_dim):\n",
    "        super().__init__()\n",
    "        self.img_size = img_size\n",
    "        self.patch_size = patch_size\n",
    "        self.n_patches = (img_size // patch_size) ** 2\n",
    "        self.patch_size = patch_size\n",
    "        self.proj = nn.Conv2d(in_chans, embed_dim, kernel_size=patch_size, stride=patch_size)\n",
    "\n",
    "    def forward(self, x):\n",
    "        x = self.proj(x)  # (B, E, P, P)\n",
    "        x = x.flatten(2)  # (B, E, N)\n",
    "        x = x.transpose(1, 2)  # (B, N, E)\n",
    "        return x"
   ]
  },
  {
   "cell_type": "code",
   "execution_count": 94,
   "metadata": {},
   "outputs": [],
   "source": [
    "import torch.nn.functional as F\n",
    "\n",
    "class Model(torch.nn.Module):\n",
    "\n",
    "    def __init__(self,\n",
    "                 len_vocab,\n",
    "                 img_size=28,\n",
    "                 patch_size=7,\n",
    "                 in_chans=1,\n",
    "                 embed_dim=100,\n",
    "                 max_len=8,\n",
    "                 nhead=2,\n",
    "                 num_encoder_layers=3,\n",
    "                 num_decoder_layers=3,\n",
    "                 dim_feedforward=400,\n",
    "                 dropout=0.1\n",
    "                ):\n",
    "        super().__init__()\n",
    "\n",
    "        self.patch_embed = PatchEmbedding(img_size, patch_size, in_chans, embed_dim)\n",
    "        self.pos_embed = nn.Parameter(torch.zeros(1, self.patch_embed.n_patches, embed_dim))\n",
    "\n",
    "        self.trg_emb = nn.Embedding(len_vocab, embed_dim)\n",
    "        self.trg_pos_emb = nn.Embedding(max_len, embed_dim)\n",
    "        self.max_len = max_len\n",
    "\n",
    "        self.transformer = torch.nn.Transformer(\n",
    "            embed_dim, nhead, num_encoder_layers, num_decoder_layers, dim_feedforward, dropout\n",
    "        )\n",
    "\n",
    "        self.l = nn.LayerNorm(embed_dim)\n",
    "        self.fc = nn.Linear(embed_dim, len_vocab)\n",
    "\n",
    "    def forward(self, images, captions):\n",
    "        # embed images\n",
    "        embed_imgs = self.patch_embed(images)\n",
    "        embed_imgs = embed_imgs + self.pos_embed  # (B, N, E)\n",
    "        # embed captions\n",
    "        B, trg_seq_len = captions.shape\n",
    "        trg_positions = (torch.arange(0, trg_seq_len).expand(B, trg_seq_len).to(images.device))\n",
    "        embed_trg = self.trg_emb(captions) + self.trg_pos_emb(trg_positions)\n",
    "        trg_mask = self.transformer.generate_square_subsequent_mask(trg_seq_len).to(images.device)\n",
    "        tgt_padding_mask = captions == 0\n",
    "        # transformer\n",
    "        y = self.transformer(\n",
    "            embed_imgs.permute(1,0,2),  # S, B, E\n",
    "            embed_trg.permute(1,0,2),  # T, B, E\n",
    "            tgt_mask=trg_mask, # T, T\n",
    "            tgt_key_padding_mask = tgt_padding_mask\n",
    "        ).permute(1,0,2) # B, T, E\n",
    "        # head\n",
    "        return self.fc(self.l(y))\n",
    "\n",
    "    def predict(self, image, device):\n",
    "        self.eval()\n",
    "        self.to(device)\n",
    "        with torch.no_grad():\n",
    "            image = image.to(device)\n",
    "            B = 1\n",
    "            # start of sentence\n",
    "            eos = torch.tensor([1], dtype=torch.long, device=device).expand(B, 1)\n",
    "            trg_input = eos\n",
    "            for _ in range(self.max_len):\n",
    "                preds = self(image.unsqueeze(0), trg_input)\n",
    "                preds = torch.argmax(preds, axis=2)\n",
    "                trg_input = torch.cat([eos, preds], 1)\n",
    "            return preds"
   ]
  },
  {
   "cell_type": "code",
   "execution_count": 95,
   "metadata": {},
   "outputs": [],
   "source": [
    "MAX_LEN = 8\n",
    "\n",
    "def collate_fn(batch):\n",
    "    images, captions = zip(*batch)\n",
    "    images = torch.stack(images)\n",
    "    captions = [torch.nn.functional.pad(caption, (0, MAX_LEN - len(caption)), value=0) for caption in captions]\n",
    "    captions = torch.stack(captions)\n",
    "    return images, captions"
   ]
  },
  {
   "cell_type": "code",
   "execution_count": 96,
   "metadata": {},
   "outputs": [],
   "source": [
    "def train(model, epochs=5, batch_size=1000):\n",
    "\tdataset = {\n",
    "\t\t\"train\": Dataset(X[:60000], encoded[:60000]), # 60.000 imágenes para entrenamiento\n",
    "\t\t\"val\": Dataset(X[60000:], encoded[60000:])    # 10.000 imágenes para validación\n",
    "\t}\n",
    "\tdataloader = {\n",
    "\t\t'train': torch.utils.data.DataLoader(dataset['train'], batch_size=batch_size, shuffle=True, num_workers=4, pin_memory=True, collate_fn=collate_fn),\n",
    "\t\t'val': torch.utils.data.DataLoader(dataset['val'], batch_size=batch_size, num_workers=4, pin_memory=True, collate_fn=collate_fn)\n",
    "\t}\n",
    "\tmodel.cuda()\n",
    "\tcriterion = torch.nn.CrossEntropyLoss()\n",
    "\toptimizer = torch.optim.Adam(model.parameters())\n",
    "\tfor e in range(1, epochs+1):\n",
    "\t\tprint(f\"epoch: {e}/{epochs}\")\n",
    "\t\t# entrenamiento\n",
    "\t\tmodel.train()\n",
    "\t\tfor batch_ix, (x, y) in enumerate(dataloader['train']):\n",
    "\t\t\tx, y = x.cuda(), y.cuda()\n",
    "\t\t\toptimizer.zero_grad()\n",
    "\t\t\toutputs = model(x, y[:,:-1])\n",
    "\t\t\tloss = criterion(outputs.permute(0,2,1), y[:,1:])\n",
    "\t\t\tloss.backward()\n",
    "\t\t\toptimizer.step()\n",
    "\t\t\tif batch_ix % 10 == 0:\n",
    "\t\t\t\tloss, current = loss.item(), (batch_ix + 1) * len(x)\n",
    "\t\t\t\tprint(f\"loss: {loss:.4f} [{current:>5d}/{len(dataset['train']):>5d}]\")\n",
    "\t\t# validación\n",
    "\t\tmodel.eval()\n",
    "\t\tval_loss, val_acc = [], []\n",
    "\t\twith torch.no_grad():\n",
    "\t\t\tfor batch_ix, (x, y) in enumerate(dataloader['val']):\n",
    "\t\t\t\tx, y = x.cuda(), y.cuda()\n",
    "\t\t\t\toutputs = model(x, y[:,:-1])\n",
    "\t\t\t\tloss = criterion(outputs.permute(0,2,1), y[:,1:])\n",
    "\t\t\t\tval_loss.append(loss.item())\n",
    "\t\t\t\tacc = (torch.argmax(outputs, axis=2) == y[:,1:]).sum().item() / (y[:,1:].shape[0]*y[:,1:].shape[1])\n",
    "\t\t\t\tval_acc.append(acc)\n",
    "\t\tprint(f\"val_loss: {np.mean(val_loss):.4f} val_acc: {np.mean(val_acc):.4f}\")"
   ]
  },
  {
   "cell_type": "code",
   "execution_count": 97,
   "metadata": {},
   "outputs": [
    {
     "name": "stdout",
     "output_type": "stream",
     "text": [
      "epoch: 1/5\n"
     ]
    },
    {
     "name": "stderr",
     "output_type": "stream",
     "text": [
      "/home/juan/miniconda3/envs/pt/lib/python3.11/site-packages/torch/nn/modules/transformer.py:307: UserWarning: enable_nested_tensor is True, but self.use_nested_tensor is False because encoder_layer.self_attn.batch_first was not True(use batch_first for better inference performance)\n",
      "  warnings.warn(f\"enable_nested_tensor is True, but self.use_nested_tensor is False because {why_not_sparsity_fast_path}\")\n",
      "/home/juan/miniconda3/envs/pt/lib/python3.11/site-packages/torch/nn/functional.py:5193: UserWarning: Support for mismatched key_padding_mask and attn_mask is deprecated. Use same type for both instead.\n",
      "  warnings.warn(\n"
     ]
    },
    {
     "name": "stdout",
     "output_type": "stream",
     "text": [
      "loss: 3.4262 [ 1000/60000]\n",
      "loss: 1.4203 [11000/60000]\n",
      "loss: 0.6924 [21000/60000]\n",
      "loss: 0.4580 [31000/60000]\n",
      "loss: 0.3656 [41000/60000]\n",
      "loss: 0.3198 [51000/60000]\n",
      "val_loss: 0.2481 val_acc: 0.9134\n",
      "epoch: 2/5\n",
      "loss: 0.2766 [ 1000/60000]\n",
      "loss: 0.2483 [11000/60000]\n",
      "loss: 0.2392 [21000/60000]\n",
      "loss: 0.2235 [31000/60000]\n",
      "loss: 0.2051 [41000/60000]\n",
      "loss: 0.1842 [51000/60000]\n",
      "val_loss: 0.1575 val_acc: 0.9435\n",
      "epoch: 3/5\n",
      "loss: 0.1712 [ 1000/60000]\n",
      "loss: 0.1580 [11000/60000]\n",
      "loss: 0.1489 [21000/60000]\n",
      "loss: 0.1357 [31000/60000]\n",
      "loss: 0.1264 [41000/60000]\n",
      "loss: 0.1257 [51000/60000]\n",
      "val_loss: 0.0961 val_acc: 0.9676\n",
      "epoch: 4/5\n",
      "loss: 0.1201 [ 1000/60000]\n",
      "loss: 0.0998 [11000/60000]\n",
      "loss: 0.1043 [21000/60000]\n",
      "loss: 0.1013 [31000/60000]\n",
      "loss: 0.1001 [41000/60000]\n",
      "loss: 0.0945 [51000/60000]\n",
      "val_loss: 0.0800 val_acc: 0.9731\n",
      "epoch: 5/5\n",
      "loss: 0.0921 [ 1000/60000]\n",
      "loss: 0.0884 [11000/60000]\n",
      "loss: 0.0914 [21000/60000]\n",
      "loss: 0.0853 [31000/60000]\n",
      "loss: 0.0718 [41000/60000]\n",
      "loss: 0.0763 [51000/60000]\n",
      "val_loss: 0.0587 val_acc: 0.9810\n"
     ]
    }
   ],
   "source": [
    "model = Model(len(vocab) + 3, max_len=MAX_LEN)\n",
    "\n",
    "train(model)"
   ]
  },
  {
   "cell_type": "code",
   "execution_count": 99,
   "metadata": {},
   "outputs": [
    {
     "name": "stderr",
     "output_type": "stream",
     "text": [
      "/home/juan/miniconda3/envs/pt/lib/python3.11/site-packages/torch/nn/functional.py:5193: UserWarning: Support for mismatched key_padding_mask and attn_mask is deprecated. Use same type for both instead.\n",
      "  warnings.warn(\n"
     ]
    },
    {
     "data": {
      "image/png": "[encoded data removed]",
      "text/plain": [
       "<Figure size 1000x1000 with 25 Axes>"
      ]
     },
     "metadata": {},
     "output_type": "display_data"
    }
   ],
   "source": [
    "import random\n",
    "\n",
    "r, c = 5,5\n",
    "fig = plt.figure(figsize=(c*2, r*2))\n",
    "for _r in range(r):\n",
    "    for _c in range(c):\n",
    "        # ix = _r*c + _c\n",
    "        ix = random.randint(0, len(X))\n",
    "        ax = plt.subplot(r, c, _r*c + _c + 1)\n",
    "        img, caption = torch.from_numpy(X[ix]).float().view(1, 28, 28), captions[ix]\n",
    "        ax.axis(\"off\")\n",
    "        ax.imshow(img.reshape(28,28), cmap=\"gray\")\n",
    "        pred = model.predict(img, device='cuda')\n",
    "        pred = ixs2caption(pred.squeeze().tolist())\n",
    "        ax.set_title(f'{caption}/{pred}', color=\"green\" if caption == pred else 'red')\n",
    "plt.show()"
   ]
  }
 ],
 "metadata": {
  "kernelspec": {
   "display_name": "pt",
   "language": "python",
   "name": "python3"
  },
  "language_info": {
   "codemirror_mode": {
    "name": "ipython",
    "version": 3
   },
   "file_extension": ".py",
   "mimetype": "text/x-python",
   "name": "python",
   "nbconvert_exporter": "python",
   "pygments_lexer": "ipython3",
   "version": "3.11.9"
  }
 },
 "nbformat": 4,
 "nbformat_minor": 2
}
